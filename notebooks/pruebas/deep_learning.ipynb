{
 "cells": [
  {
   "cell_type": "markdown",
   "metadata": {},
   "source": [
    "Vamos a probar con una red neuronal, a ver si sacamos mejores predicciones."
   ]
  },
  {
   "cell_type": "code",
   "execution_count": 8,
   "metadata": {},
   "outputs": [],
   "source": [
    "import pandas as pd\n",
    "import numpy as np\n",
    "import matplotlib.pyplot as plt\n",
    "import seaborn as sns\n",
    "import pickle\n",
    "import tensorflow"
   ]
  },
  {
   "cell_type": "code",
   "execution_count": 3,
   "metadata": {},
   "outputs": [
    {
     "data": {
      "text/html": [
       "<div>\n",
       "<style scoped>\n",
       "    .dataframe tbody tr th:only-of-type {\n",
       "        vertical-align: middle;\n",
       "    }\n",
       "\n",
       "    .dataframe tbody tr th {\n",
       "        vertical-align: top;\n",
       "    }\n",
       "\n",
       "    .dataframe thead th {\n",
       "        text-align: right;\n",
       "    }\n",
       "</style>\n",
       "<table border=\"1\" class=\"dataframe\">\n",
       "  <thead>\n",
       "    <tr style=\"text-align: right;\">\n",
       "      <th></th>\n",
       "      <th>make</th>\n",
       "      <th>model</th>\n",
       "      <th>price</th>\n",
       "      <th>fuel</th>\n",
       "      <th>year</th>\n",
       "      <th>kms</th>\n",
       "      <th>power</th>\n",
       "      <th>doors</th>\n",
       "      <th>shift</th>\n",
       "      <th>is_professional</th>\n",
       "    </tr>\n",
       "  </thead>\n",
       "  <tbody>\n",
       "    <tr>\n",
       "      <th>1</th>\n",
       "      <td>11</td>\n",
       "      <td>154</td>\n",
       "      <td>6200</td>\n",
       "      <td>1</td>\n",
       "      <td>2017.0</td>\n",
       "      <td>50071</td>\n",
       "      <td>82.0</td>\n",
       "      <td>5</td>\n",
       "      <td>0</td>\n",
       "      <td>1</td>\n",
       "    </tr>\n",
       "    <tr>\n",
       "      <th>2</th>\n",
       "      <td>23</td>\n",
       "      <td>769</td>\n",
       "      <td>7851</td>\n",
       "      <td>0</td>\n",
       "      <td>2016.0</td>\n",
       "      <td>103000</td>\n",
       "      <td>100.0</td>\n",
       "      <td>5</td>\n",
       "      <td>0</td>\n",
       "      <td>1</td>\n",
       "    </tr>\n",
       "    <tr>\n",
       "      <th>3</th>\n",
       "      <td>70</td>\n",
       "      <td>200</td>\n",
       "      <td>19426</td>\n",
       "      <td>0</td>\n",
       "      <td>2014.0</td>\n",
       "      <td>120000</td>\n",
       "      <td>140.0</td>\n",
       "      <td>5</td>\n",
       "      <td>0</td>\n",
       "      <td>1</td>\n",
       "    </tr>\n",
       "    <tr>\n",
       "      <th>4</th>\n",
       "      <td>23</td>\n",
       "      <td>768</td>\n",
       "      <td>22850</td>\n",
       "      <td>0</td>\n",
       "      <td>2017.0</td>\n",
       "      <td>107000</td>\n",
       "      <td>130.0</td>\n",
       "      <td>3</td>\n",
       "      <td>0</td>\n",
       "      <td>1</td>\n",
       "    </tr>\n",
       "    <tr>\n",
       "      <th>5</th>\n",
       "      <td>52</td>\n",
       "      <td>33</td>\n",
       "      <td>11490</td>\n",
       "      <td>1</td>\n",
       "      <td>2016.0</td>\n",
       "      <td>78665</td>\n",
       "      <td>130.0</td>\n",
       "      <td>5</td>\n",
       "      <td>0</td>\n",
       "      <td>1</td>\n",
       "    </tr>\n",
       "    <tr>\n",
       "      <th>...</th>\n",
       "      <td>...</td>\n",
       "      <td>...</td>\n",
       "      <td>...</td>\n",
       "      <td>...</td>\n",
       "      <td>...</td>\n",
       "      <td>...</td>\n",
       "      <td>...</td>\n",
       "      <td>...</td>\n",
       "      <td>...</td>\n",
       "      <td>...</td>\n",
       "    </tr>\n",
       "    <tr>\n",
       "      <th>49995</th>\n",
       "      <td>27</td>\n",
       "      <td>869</td>\n",
       "      <td>18490</td>\n",
       "      <td>1</td>\n",
       "      <td>2018.0</td>\n",
       "      <td>47000</td>\n",
       "      <td>140.0</td>\n",
       "      <td>5</td>\n",
       "      <td>1</td>\n",
       "      <td>1</td>\n",
       "    </tr>\n",
       "    <tr>\n",
       "      <th>49996</th>\n",
       "      <td>56</td>\n",
       "      <td>463</td>\n",
       "      <td>14500</td>\n",
       "      <td>0</td>\n",
       "      <td>2015.0</td>\n",
       "      <td>68750</td>\n",
       "      <td>150.0</td>\n",
       "      <td>3</td>\n",
       "      <td>0</td>\n",
       "      <td>1</td>\n",
       "    </tr>\n",
       "    <tr>\n",
       "      <th>49997</th>\n",
       "      <td>52</td>\n",
       "      <td>5</td>\n",
       "      <td>11000</td>\n",
       "      <td>1</td>\n",
       "      <td>2019.0</td>\n",
       "      <td>21422</td>\n",
       "      <td>72.0</td>\n",
       "      <td>5</td>\n",
       "      <td>0</td>\n",
       "      <td>1</td>\n",
       "    </tr>\n",
       "    <tr>\n",
       "      <th>49998</th>\n",
       "      <td>4</td>\n",
       "      <td>625</td>\n",
       "      <td>47900</td>\n",
       "      <td>1</td>\n",
       "      <td>2013.0</td>\n",
       "      <td>47900</td>\n",
       "      <td>450.0</td>\n",
       "      <td>5</td>\n",
       "      <td>1</td>\n",
       "      <td>1</td>\n",
       "    </tr>\n",
       "    <tr>\n",
       "      <th>49999</th>\n",
       "      <td>11</td>\n",
       "      <td>155</td>\n",
       "      <td>2790</td>\n",
       "      <td>0</td>\n",
       "      <td>2006.0</td>\n",
       "      <td>106000</td>\n",
       "      <td>70.0</td>\n",
       "      <td>3</td>\n",
       "      <td>0</td>\n",
       "      <td>1</td>\n",
       "    </tr>\n",
       "  </tbody>\n",
       "</table>\n",
       "<p>41354 rows × 10 columns</p>\n",
       "</div>"
      ],
      "text/plain": [
       "       make  model  price  fuel    year     kms  power  doors  shift  \\\n",
       "1        11    154   6200     1  2017.0   50071   82.0      5      0   \n",
       "2        23    769   7851     0  2016.0  103000  100.0      5      0   \n",
       "3        70    200  19426     0  2014.0  120000  140.0      5      0   \n",
       "4        23    768  22850     0  2017.0  107000  130.0      3      0   \n",
       "5        52     33  11490     1  2016.0   78665  130.0      5      0   \n",
       "...     ...    ...    ...   ...     ...     ...    ...    ...    ...   \n",
       "49995    27    869  18490     1  2018.0   47000  140.0      5      1   \n",
       "49996    56    463  14500     0  2015.0   68750  150.0      3      0   \n",
       "49997    52      5  11000     1  2019.0   21422   72.0      5      0   \n",
       "49998     4    625  47900     1  2013.0   47900  450.0      5      1   \n",
       "49999    11    155   2790     0  2006.0  106000   70.0      3      0   \n",
       "\n",
       "       is_professional  \n",
       "1                    1  \n",
       "2                    1  \n",
       "3                    1  \n",
       "4                    1  \n",
       "5                    1  \n",
       "...                ...  \n",
       "49995                1  \n",
       "49996                1  \n",
       "49997                1  \n",
       "49998                1  \n",
       "49999                1  \n",
       "\n",
       "[41354 rows x 10 columns]"
      ]
     },
     "execution_count": 3,
     "metadata": {},
     "output_type": "execute_result"
    }
   ],
   "source": [
    "df = pd.read_csv(\"../data/processed/df_pre_modelo.csv\", index_col=0)\n",
    "df"
   ]
  },
  {
   "cell_type": "code",
   "execution_count": 51,
   "metadata": {},
   "outputs": [
    {
     "name": "stdout",
     "output_type": "stream",
     "text": [
      "(33083, 9)\n",
      "(8271, 9)\n",
      "(33083,)\n",
      "(8271,)\n"
     ]
    },
    {
     "name": "stderr",
     "output_type": "stream",
     "text": [
      "c:\\Users\\APint\\anaconda3\\envs\\deep_learning_env\\lib\\site-packages\\sklearn\\base.py:348: InconsistentVersionWarning: Trying to unpickle estimator MinMaxScaler from version 1.3.1 when using version 1.3.2. This might lead to breaking code or invalid results. Use at your own risk. For more info please refer to:\n",
      "https://scikit-learn.org/stable/model_persistence.html#security-maintainability-limitations\n",
      "  warnings.warn(\n"
     ]
    }
   ],
   "source": [
    "from sklearn.model_selection import train_test_split\n",
    "from sklearn import metrics\n",
    "\n",
    "X = df.drop(columns=[\"price\"], axis=1)\n",
    "y = df[\"price\"]\n",
    "\n",
    "scaler = pickle.load(open(\"../utils/scaler.pkl\", 'rb'))\n",
    "\n",
    "X = scaler.transform(X)\n",
    "y = np.log(y)\n",
    "\n",
    "X_train, X_test, y_train, y_test = train_test_split(X, y, test_size=0.2, random_state=42)\n",
    "\n",
    "print(X_train.shape)\n",
    "print(X_test.shape)\n",
    "print(y_train.shape)\n",
    "print(y_test.shape)"
   ]
  },
  {
   "cell_type": "code",
   "execution_count": 52,
   "metadata": {},
   "outputs": [],
   "source": [
    "from tensorflow.keras.models import Sequential\n",
    "from tensorflow.keras.layers import Dense, Dropout, Activation\n",
    "\n",
    "model = Sequential()\n",
    "\n",
    "model.add(Dense(128, activation=\"relu\", input_shape=(9,)))\n",
    "model.add(Dropout(0.3))\n",
    "\n",
    "model.add(Dense(256, activation=\"relu\"))\n",
    "model.add(Dropout(0.3))\n",
    "\n",
    "model.add(Dense(256, activation=\"relu\"))\n",
    "model.add(Dropout(0.3))\n",
    "\n",
    "model.add(Dense(1))\n",
    "model.add(Dropout(0.3))"
   ]
  },
  {
   "cell_type": "code",
   "execution_count": 53,
   "metadata": {},
   "outputs": [],
   "source": [
    "from tensorflow.keras.optimizers import Adam\n",
    "\n",
    "# opt = Adam(learning_rate=0.001)"
   ]
  },
  {
   "cell_type": "code",
   "execution_count": 54,
   "metadata": {},
   "outputs": [],
   "source": [
    "model.compile(metrics=[\"mean_squared_error\"], optimizer=\"adam\", loss=\"mean_squared_error\")"
   ]
  },
  {
   "cell_type": "code",
   "execution_count": 55,
   "metadata": {},
   "outputs": [
    {
     "name": "stdout",
     "output_type": "stream",
     "text": [
      "Epoch 1/20\n"
     ]
    },
    {
     "name": "stdout",
     "output_type": "stream",
     "text": [
      "828/828 [==============================] - 3s 3ms/step - loss: 27.9225 - mean_squared_error: 27.9225 - val_loss: 12.6608 - val_mean_squared_error: 12.6608\n",
      "Epoch 2/20\n",
      "828/828 [==============================] - 2s 2ms/step - loss: 26.8570 - mean_squared_error: 26.8570 - val_loss: 14.3580 - val_mean_squared_error: 14.3580\n",
      "Epoch 3/20\n",
      "828/828 [==============================] - 2s 3ms/step - loss: 27.2327 - mean_squared_error: 27.2327 - val_loss: 9.0412 - val_mean_squared_error: 9.0412\n",
      "Epoch 4/20\n",
      "828/828 [==============================] - 2s 2ms/step - loss: 27.0953 - mean_squared_error: 27.0953 - val_loss: 7.8680 - val_mean_squared_error: 7.8680\n",
      "Epoch 5/20\n",
      "828/828 [==============================] - 2s 3ms/step - loss: 27.5022 - mean_squared_error: 27.5022 - val_loss: 9.8416 - val_mean_squared_error: 9.8416\n",
      "Epoch 6/20\n",
      "828/828 [==============================] - 2s 2ms/step - loss: 27.2247 - mean_squared_error: 27.2247 - val_loss: 7.9665 - val_mean_squared_error: 7.9665\n",
      "Epoch 7/20\n",
      "828/828 [==============================] - 2s 2ms/step - loss: 27.0506 - mean_squared_error: 27.0506 - val_loss: 8.9841 - val_mean_squared_error: 8.9841\n",
      "Epoch 8/20\n",
      "828/828 [==============================] - 2s 2ms/step - loss: 26.8996 - mean_squared_error: 26.8996 - val_loss: 9.1565 - val_mean_squared_error: 9.1565\n",
      "Epoch 9/20\n",
      "828/828 [==============================] - 2s 3ms/step - loss: 27.2636 - mean_squared_error: 27.2636 - val_loss: 9.1557 - val_mean_squared_error: 9.1557\n",
      "Epoch 10/20\n",
      "828/828 [==============================] - 2s 3ms/step - loss: 27.2413 - mean_squared_error: 27.2413 - val_loss: 9.7769 - val_mean_squared_error: 9.7769\n",
      "Epoch 11/20\n",
      "828/828 [==============================] - 2s 2ms/step - loss: 27.5219 - mean_squared_error: 27.5219 - val_loss: 8.9511 - val_mean_squared_error: 8.9511\n",
      "Epoch 12/20\n",
      "828/828 [==============================] - 2s 2ms/step - loss: 27.2213 - mean_squared_error: 27.2213 - val_loss: 8.9011 - val_mean_squared_error: 8.9011\n",
      "Epoch 13/20\n",
      "828/828 [==============================] - 2s 3ms/step - loss: 27.2740 - mean_squared_error: 27.2740 - val_loss: 10.3852 - val_mean_squared_error: 10.3852\n",
      "Epoch 14/20\n",
      "828/828 [==============================] - 2s 3ms/step - loss: 27.1382 - mean_squared_error: 27.1382 - val_loss: 9.4814 - val_mean_squared_error: 9.4814\n",
      "Epoch 15/20\n",
      "828/828 [==============================] - 2s 3ms/step - loss: 26.6160 - mean_squared_error: 26.6160 - val_loss: 9.7801 - val_mean_squared_error: 9.7801\n",
      "Epoch 16/20\n",
      "828/828 [==============================] - 2s 2ms/step - loss: 26.9593 - mean_squared_error: 26.9593 - val_loss: 9.2047 - val_mean_squared_error: 9.2047\n",
      "Epoch 17/20\n",
      "828/828 [==============================] - 2s 3ms/step - loss: 27.5078 - mean_squared_error: 27.5078 - val_loss: 9.3818 - val_mean_squared_error: 9.3818\n",
      "Epoch 18/20\n",
      "828/828 [==============================] - 2s 2ms/step - loss: 26.9653 - mean_squared_error: 26.9653 - val_loss: 9.4392 - val_mean_squared_error: 9.4392\n",
      "Epoch 19/20\n",
      "828/828 [==============================] - 2s 3ms/step - loss: 26.8351 - mean_squared_error: 26.8351 - val_loss: 8.8038 - val_mean_squared_error: 8.8038\n",
      "Epoch 20/20\n",
      "828/828 [==============================] - 2s 2ms/step - loss: 27.2610 - mean_squared_error: 27.2610 - val_loss: 8.7814 - val_mean_squared_error: 8.7814\n"
     ]
    }
   ],
   "source": [
    "history = model.fit(X_train, y_train, epochs=20, validation_split=0.2, batch_size = 32)"
   ]
  },
  {
   "cell_type": "code",
   "execution_count": 56,
   "metadata": {},
   "outputs": [
    {
     "data": {
      "image/png": "[encoded data removed]",
      "text/plain": [
       "<Figure size 640x480 with 1 Axes>"
      ]
     },
     "metadata": {},
     "output_type": "display_data"
    }
   ],
   "source": [
    "plt.figure()\n",
    "\n",
    "plt.plot(history.history[\"loss\"])\n",
    "plt.plot(history.history[\"val_loss\"])\n",
    "\n",
    "plt.show()"
   ]
  },
  {
   "cell_type": "markdown",
   "metadata": {},
   "source": [
    "Parece que no consigue entrenar bien."
   ]
  },
  {
   "cell_type": "code",
   "execution_count": 57,
   "metadata": {},
   "outputs": [
    {
     "name": "stdout",
     "output_type": "stream",
     "text": [
      "259/259 [==============================] - 0s 804us/step\n",
      "MSE: 8.851786771034286\n",
      "RMSE: 2.9751952492289115\n",
      "MAE: 2.9430710278270653\n",
      "MAPE: 0.31031934244205106\n",
      "r2 score: -11.407007384030493\n",
      " \n"
     ]
    }
   ],
   "source": [
    "y_pred = model.predict(X_test)\n",
    "\n",
    "print(f\"MSE: {metrics.mean_squared_error(y_test, y_pred)}\")\n",
    "print(f\"RMSE: {np.sqrt(metrics.mean_squared_error(y_test, y_pred))}\")\n",
    "print(f\"MAE: {metrics.mean_absolute_error(y_test, y_pred)}\")\n",
    "print(f\"MAPE: {metrics.mean_absolute_percentage_error(y_test, y_pred)}\")\n",
    "\n",
    "print(f\"r2 score: {metrics.r2_score(y_test, y_pred)}\")\n",
    "print(\" \")"
   ]
  },
  {
   "cell_type": "code",
   "execution_count": 16,
   "metadata": {},
   "outputs": [
    {
     "data": {
      "text/plain": [
       "25929    10.038892\n",
       "9282      9.017968\n",
       "31576     9.441452\n",
       "6324      9.648273\n",
       "8703     10.065606\n",
       "           ...    \n",
       "3590      8.682708\n",
       "6755     10.199882\n",
       "3209      9.846917\n",
       "17188     9.994242\n",
       "22455     9.391828\n",
       "Name: price, Length: 8271, dtype: float64"
      ]
     },
     "execution_count": 16,
     "metadata": {},
     "output_type": "execute_result"
    }
   ],
   "source": [
    "y_test"
   ]
  },
  {
   "cell_type": "code",
   "execution_count": 17,
   "metadata": {},
   "outputs": [
    {
     "data": {
      "text/plain": [
       "array([[6.817053 ],\n",
       "       [6.509714 ],\n",
       "       [6.611205 ],\n",
       "       ...,\n",
       "       [6.9505243],\n",
       "       [6.7345953],\n",
       "       [6.3391266]], dtype=float32)"
      ]
     },
     "execution_count": 17,
     "metadata": {},
     "output_type": "execute_result"
    }
   ],
   "source": [
    "y_pred"
   ]
  }
 ],
 "metadata": {
  "kernelspec": {
   "display_name": "deep_learning_env",
   "language": "python",
   "name": "python3"
  },
  "language_info": {
   "codemirror_mode": {
    "name": "ipython",
    "version": 3
   },
   "file_extension": ".py",
   "mimetype": "text/x-python",
   "name": "python",
   "nbconvert_exporter": "python",
   "pygments_lexer": "ipython3",
   "version": "3.9.18"
  }
 },
 "nbformat": 4,
 "nbformat_minor": 2
}
